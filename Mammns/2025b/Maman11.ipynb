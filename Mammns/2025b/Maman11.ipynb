{
 "cells": [
  {
   "metadata": {},
   "cell_type": "markdown",
   "source": [
    "שאלה 1 (10 נק')\n",
    "בהינתן הפקודה הבאה:\n",
    "מה יודפס בפלט הסטנדרטי?"
   ],
   "id": "7c2345d13653c321"
  },
  {
   "metadata": {
    "ExecuteTime": {
     "end_time": "2025-03-14T09:18:46.974504Z",
     "start_time": "2025-03-14T09:18:46.971547Z"
    }
   },
   "cell_type": "code",
   "source": "print (\"P\", \"y\", \"t\", \"h\", \"o\", \"n\", sep=\"\\n\")",
   "id": "ffbcb77a6ebfec38",
   "outputs": [
    {
     "name": "stdout",
     "output_type": "stream",
     "text": [
      "P\n",
      "y\n",
      "t\n",
      "h\n",
      "o\n",
      "n\n"
     ]
    }
   ],
   "execution_count": 1
  },
  {
   "metadata": {},
   "cell_type": "markdown",
   "source": [
    "שאלה 2 (5 נק')\n",
    "בהינתן הפקודה הבאה:\n"
   ],
   "id": "5df717fd0bc4415"
  },
  {
   "metadata": {
    "ExecuteTime": {
     "end_time": "2025-03-14T09:19:27.741769Z",
     "start_time": "2025-03-14T09:19:27.733477Z"
    }
   },
   "cell_type": "code",
   "source": [
    "temp = 'Temperature is 19 degrees'\n",
    "temp = float(temp[-10:-8])\n",
    "print (temp)"
   ],
   "id": "9d8187b801a70fc5",
   "outputs": [
    {
     "name": "stdout",
     "output_type": "stream",
     "text": [
      "19.0\n"
     ]
    }
   ],
   "execution_count": 2
  },
  {
   "metadata": {},
   "cell_type": "markdown",
   "source": [
    "שאלה 3 (5 נק')\n",
    "כתבו פקודת פלט בשורה אחת והיעזרו בתווים המיוחדים \\\", \\\\, \\n  ובאות O (אות גדולה) כדי להציג את הפלט הבא\n",
    "(\\_/)\n",
    "(O.O)\n",
    "(\")(\")"
   ],
   "id": "931fb884b68fee1a"
  },
  {
   "metadata": {
    "ExecuteTime": {
     "end_time": "2025-03-14T09:23:48.918974Z",
     "start_time": "2025-03-14T09:23:48.915434Z"
    }
   },
   "cell_type": "code",
   "source": "print(\"(\\\\_/)\\n(O.O)\\n(\\\")(\\\")\")",
   "id": "664a3f74090fa603",
   "outputs": [
    {
     "name": "stdout",
     "output_type": "stream",
     "text": [
      "(\\_/)\n",
      "(O.O)\n",
      "(\")(\")\n"
     ]
    }
   ],
   "execution_count": 6
  },
  {
   "metadata": {},
   "cell_type": "markdown",
   "source": [
    "שאלה 4 (20 נק')\n",
    "בהינתן הקוד שלפניכם:\n",
    "if (num % 10 % 2 != 0 and (num // 10 ** 3) % 2 != 0) or\n",
    "   (num // 10 % 10 % 2 == 0 or  (num // 10 ** 2) % 10 % 2 == 0) :\n",
    "     # some code…\n",
    "\n",
    "א.\tכתבו ערך של המשתנה num עבור ערך התנאי יהיה True. \tתשובה: _________\n",
    "ב.\tכתבו ערך של המשתנה num עבור ערך התנאי יהיה False. \tתשובה: _________\n",
    " \n"
   ],
   "id": "6941b23e5f5b5bc5"
  },
  {
   "metadata": {
    "ExecuteTime": {
     "end_time": "2025-03-14T09:35:00.165940Z",
     "start_time": "2025-03-14T09:35:00.161291Z"
    }
   },
   "cell_type": "code",
   "source": [
    "num =110 #for False\n",
    "if (num % 10 % 2 != 0 and (num // 10 ** 3) % 2 != 0) or (num // 10 % 10 % 2 == 0 or  (num // 10 ** 2) % 10 % 2 == 0) :\n",
    "    print('True')\n",
    "else:\n",
    "    print('False')\n",
    "\n",
    "num =10 #for True\n",
    "if (num % 10 % 2 != 0 and (num // 10 ** 3) % 2 != 0) or (num // 10 % 10 % 2 == 0 or  (num // 10 ** 2) % 10 % 2 == 0) :\n",
    "    print('True')\n",
    "else:\n",
    "    print('False')"
   ],
   "id": "73a9afa5b36447e9",
   "outputs": [
    {
     "name": "stdout",
     "output_type": "stream",
     "text": [
      "False\n",
      "True\n"
     ]
    }
   ],
   "execution_count": 52
  },
  {
   "metadata": {},
   "cell_type": "markdown",
   "source": [
    "שאלה 5 (10 נק')\n",
    "בהינתן הקוד שלפניכם, מה הפלט שיוצג?\n"
   ],
   "id": "a75fc727ebb4756d"
  },
  {
   "metadata": {
    "ExecuteTime": {
     "end_time": "2025-03-14T09:35:28.798656Z",
     "start_time": "2025-03-14T09:35:28.792945Z"
    }
   },
   "cell_type": "code",
   "source": [
    "x = 20\n",
    "if x != 20:\n",
    "   print(\"The number is not 20\")\n",
    "   print(\"Never mind\")\n",
    "else:\n",
    "   print(\"The number is 20\")\n",
    "   print(\"Good\")\n",
    "print(\"Done\")\n"
   ],
   "id": "d26b677db30c681c",
   "outputs": [
    {
     "name": "stdout",
     "output_type": "stream",
     "text": [
      "The number is 20\n",
      "Good\n",
      "Done\n"
     ]
    }
   ],
   "execution_count": 53
  },
  {
   "metadata": {},
   "cell_type": "markdown",
   "source": [
    "שאלה 6 (10 נק')\n",
    "בהינתן הקוד שלפניכם, מה ערכו הנדרש של המשתנה x עבור יוצג הפלט 'Maybe'?\n"
   ],
   "id": "adebafb0783b5070"
  },
  {
   "metadata": {
    "ExecuteTime": {
     "end_time": "2025-03-14T09:37:54.821971Z",
     "start_time": "2025-03-14T09:37:52.781338Z"
    }
   },
   "cell_type": "code",
   "source": [
    "x = int(input('Enter a number:'))\n",
    "if x > 0 and x < 10:\n",
    "   print(\"Yes\")\n",
    "elif x > 10 and x < 100:\n",
    "   print(\"No\")\n",
    "else:\n",
    "   print(\"Maybe\")\n"
   ],
   "id": "6b3c874e99cb12be",
   "outputs": [
    {
     "name": "stdout",
     "output_type": "stream",
     "text": [
      "Maybe\n"
     ]
    }
   ],
   "execution_count": 64
  },
  {
   "metadata": {},
   "cell_type": "markdown",
   "source": [
    "שאלה 7 (10 נק')\n",
    "בהינתן הקוד שלפניכם, מה הפלט שיוצג?\n"
   ],
   "id": "7819267c89cca24"
  },
  {
   "metadata": {
    "ExecuteTime": {
     "end_time": "2025-03-14T09:40:39.014784Z",
     "start_time": "2025-03-14T09:40:39.009959Z"
    }
   },
   "cell_type": "code",
   "source": [
    "num1, num2, num3 = 5, 3, 0\n",
    "if num3 == 0:\n",
    "  if num2 == 3:\n",
    "    if num1 > 0:\n",
    "      print(\"A\")\n",
    "  else:\n",
    "      print(\"B\")\n",
    "else:\n",
    "      print(\"C\")\n"
   ],
   "id": "9b035b105cb9017a",
   "outputs": [
    {
     "name": "stdout",
     "output_type": "stream",
     "text": [
      "A\n"
     ]
    }
   ],
   "execution_count": 65
  },
  {
   "metadata": {},
   "cell_type": "markdown",
   "source": [
    "שאלה 8 (10 נק')\n",
    "בהינתן הקוד שלפניכם, מה הפלט שיוצג?\n"
   ],
   "id": "c274fee6a9e41a71"
  },
  {
   "metadata": {
    "ExecuteTime": {
     "end_time": "2025-03-14T09:41:00.810482Z",
     "start_time": "2025-03-14T09:41:00.803788Z"
    }
   },
   "cell_type": "code",
   "source": [
    "x, y, z = 7, 3, 5\n",
    "if x == y or y == z:\n",
    "  print(\"A\")\n",
    "elif x != y and z > y:\n",
    "  if z > 10:\n",
    "    print(\"B\")\n",
    "  else:\n",
    "    print(\"C\")\n",
    "elif y > z and y > x:\n",
    "  print(\"D\")\n",
    "else:\n",
    "  print(\"E\")\n"
   ],
   "id": "e78deb388e1ad7a",
   "outputs": [
    {
     "name": "stdout",
     "output_type": "stream",
     "text": [
      "C\n"
     ]
    }
   ],
   "execution_count": 66
  },
  {
   "metadata": {},
   "cell_type": "markdown",
   "source": [
    "שאלות 9+10 (20 נק')\n",
    "לפניכם שני קטעי קוד:\n",
    "א.\tהגדירו ערכים לשני המשתנים flag1, flag2 עבורם שני קטעי הקוד יהיו עם פלט זהה.\n",
    "תשובה: _________\n",
    "ב.\tהגדירו ערכים לשני המשתנים flag1, flag2 עבורם שני קטעי הקוד יהיו עם פלט שונה.\n",
    "תשובה: _________\n"
   ],
   "id": "e0b301815c5704d0"
  },
  {
   "metadata": {
    "ExecuteTime": {
     "end_time": "2025-03-14T09:45:33.213296Z",
     "start_time": "2025-03-14T09:45:33.209857Z"
    }
   },
   "cell_type": "code",
   "source": [
    "flag1 = False #for not the same result\n",
    "flag2 = True #for not the same result\n",
    "# section 1\n",
    "if flag1:\n",
    "  if not flag2:\n",
    "    print(\"A\")\n",
    "  else:\n",
    "    print(\"B\")\n",
    "else:\n",
    "  if not flag2:\n",
    "    print(\"C\")\n",
    "  else:\n",
    "    print(\"D\")\n",
    "# section 2\n",
    "if flag1 and not flag2:\n",
    "  print (\"A\")\n",
    "else:\n",
    "  print(\"B\")\n"
   ],
   "id": "f03fa6fdcc1ca05b",
   "outputs": [
    {
     "name": "stdout",
     "output_type": "stream",
     "text": [
      "D\n",
      "B\n"
     ]
    }
   ],
   "execution_count": 71
  },
  {
   "metadata": {
    "ExecuteTime": {
     "end_time": "2025-03-14T09:45:23.009865Z",
     "start_time": "2025-03-14T09:45:23.003970Z"
    }
   },
   "cell_type": "code",
   "source": [
    "flag1 = True #for  the same result\n",
    "flag2 = True #for  the same result\n",
    "# section 1\n",
    "if flag1:\n",
    "  if not flag2:\n",
    "    print(\"A\")\n",
    "  else:\n",
    "    print(\"B\")\n",
    "else:\n",
    "  if not flag2:\n",
    "    print(\"C\")\n",
    "  else:\n",
    "    print(\"D\")\n",
    "# section 2\n",
    "if flag1 and not flag2:\n",
    "  print (\"A\")\n",
    "else:\n",
    "  print(\"B\")\n"
   ],
   "id": "aae41dd487187a4c",
   "outputs": [
    {
     "name": "stdout",
     "output_type": "stream",
     "text": [
      "B\n",
      "B\n"
     ]
    }
   ],
   "execution_count": 70
  }
 ],
 "metadata": {
  "kernelspec": {
   "display_name": "Python 3",
   "language": "python",
   "name": "python3"
  },
  "language_info": {
   "codemirror_mode": {
    "name": "ipython",
    "version": 2
   },
   "file_extension": ".py",
   "mimetype": "text/x-python",
   "name": "python",
   "nbconvert_exporter": "python",
   "pygments_lexer": "ipython2",
   "version": "2.7.6"
  }
 },
 "nbformat": 4,
 "nbformat_minor": 5
}
