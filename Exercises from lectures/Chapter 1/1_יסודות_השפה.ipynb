{
  "nbformat": 4,
  "nbformat_minor": 0,
  "metadata": {
    "colab": {
      "provenance": [],
      "collapsed_sections": [
        "zYbNb2NV53e9",
        "YRLZNYWfnCi7",
        "v8ZAd3zEQoBz",
        "jq6P4Hruucha",
        "OD1K43ZaxNYm",
        "NB8Miqx1P030",
        "Fn5SSNVABRtb",
        "N9VQmm40CPkU"
      ],
      "toc_visible": true
    },
    "kernelspec": {
      "name": "python3",
      "display_name": "Python 3"
    },
    "language_info": {
      "name": "python"
    }
  },
  "cells": [
    {
      "cell_type": "markdown",
      "source": [
        "![מטלות.jpg](https://drive.google.com/uc?export=view&id=1MUxVnmlPnB7X3bOS-jJUTR9LDR7yeHN2)\n"
      ],
      "metadata": {
        "id": "LbdUHVS3OZxu"
      }
    },
    {
      "cell_type": "markdown",
      "source": [
        "<div dir=\"rtl\" lang=\"he\" xml:lang=\"he\" >\n",
        "\n",
        "\n",
        "#**<pre>          הקדמה ומנהלה**"
      ],
      "metadata": {
        "id": "gL-KIKOJ8DEr"
      }
    },
    {
      "cell_type": "markdown",
      "source": [
        "<div dir=\"rtl\" lang=\"he\">\n",
        "\n",
        "**תכנות וניתוח נתונים בשפת פייתון**\n",
        "\n",
        "---\n",
        "מרכז הוראה - מני עבודי\n",
        "\n",
        "מנחה - גלעד מרקמן\n",
        "\n",
        "נייד: 052-2653732\n",
        "\n",
        "שעות ייעוץ טלפוני: יום ד' שעה 10:00\n",
        "\n",
        "מייל: gilad.markman@openu.ac.il\n",
        "\n",
        "*חלק מהתמונות והשאלות מתוך המצגות של גד לידרור*"
      ],
      "metadata": {
        "id": "nn3d3yA711mY"
      }
    },
    {
      "cell_type": "markdown",
      "source": [
        "![מטלות.jpg](https://drive.google.com/uc?export=view&id=1Npholv1g8sW_ZtyDXQ31Mos1DtvCtZXn)"
      ],
      "metadata": {
        "id": "9ekSIKgA2r43"
      }
    },
    {
      "cell_type": "markdown",
      "source": [
        "<div dir=\"rtl\" lang=\"he\">\n",
        "\n",
        "\n",
        "##**סביבות העבודה**\n",
        "\n",
        "\n",
        "*   PyCharm - במחשב\n",
        "*   Visual Studio Code - במחשב\n",
        "*   Google Colab - בענן\n",
        "\n",
        "\n",
        "[Google Colab](https://colab.research.google.com/)\n",
        "\n",
        "עבודה בסביבה מקומית מחייבת להתקין את Python Interpreter במחשב המקומי, ולאחר מכן להתקין את סביבת העבודה (PyCharm)\n",
        "\n",
        "[Python Download](https://www.python.org/downloads/)\n",
        "\n",
        "[PyCharm Download](https://www.jetbrains.com/pycharm/download/?section=windows)\n",
        "\n",
        "ניתן לעבוד גם עם Visual Studio Code אולם האוניברסיטה תומכרת רק ב  PyCharm.\n",
        "\n",
        "[Visual Studio Code](https://code.visualstudio.com/download)\n",
        "\n",
        "[הנחיות להתקנת פייתון והסביבה](https://webprogramming.azurewebsites.net/Pages/Python/Installation.aspx)\n"
      ],
      "metadata": {
        "id": "zYbNb2NV53e9"
      }
    },
    {
      "cell_type": "markdown",
      "source": [
        "<div dir=\"rtl\" lang=\"he\">\n",
        "\n",
        "---\n",
        "\n",
        "#**<pre>          פלט - print**"
      ],
      "metadata": {
        "id": "SMcYBLm0HZc-"
      }
    },
    {
      "cell_type": "code",
      "source": [
        "print('Hello world !')"
      ],
      "metadata": {
        "colab": {
          "base_uri": "https://localhost:8080/"
        },
        "id": "PtmtCH2Scq7A",
        "outputId": "3fe8f5ad-7ddc-4ab1-8512-25000476075b"
      },
      "execution_count": null,
      "outputs": [
        {
          "output_type": "stream",
          "name": "stdout",
          "text": [
            "Hello world !\n"
          ]
        }
      ]
    },
    {
      "cell_type": "code",
      "source": [
        "print (11, \"days\", 'to', \"end of world\")                  # הדפסה של מספר ערכים\n",
        "print (1, 2, 3, sep=\":\")                                  # מגדיר את המפריד\n",
        "print (\"This print doesn't make new line.\", end = \" \")    # ללא ירידה שורה\n",
        "print (\"\\tThis print makes \\nnew line\")                   # הדפסה לאחר טאב וירידת שורה\n",
        "print (\"1234\", end=\"\")\n",
        "print (\"\\b5678\")                                          # backspace\n",
        "print (\"first line\", end=\"\\r\")                            # לאחר ההדפסה הסמן חוזר לתחילת השורה\n",
        "print (\"second line\")\n"
      ],
      "metadata": {
        "colab": {
          "base_uri": "https://localhost:8080/"
        },
        "id": "3ATwixILHc5P",
        "outputId": "656283fb-7742-4bfc-9e35-4fad593e3f5b"
      },
      "execution_count": null,
      "outputs": [
        {
          "output_type": "stream",
          "name": "stdout",
          "text": [
            "11 days to end of world\n",
            "1:2:3\n",
            "This print doesn't make new line. \tThis print makes \n",
            "new line\n",
            "1234\b5678\n",
            "first line\rsecond line\n"
          ]
        }
      ]
    },
    {
      "cell_type": "markdown",
      "source": [
        "<div dir=\"rtl\" lang=\"he\">\n",
        "\n",
        "---\n",
        "\n",
        "#**<pre>          משתנים בסיסיים - Variables**"
      ],
      "metadata": {
        "id": "bMnIt2MzHncJ"
      }
    },
    {
      "cell_type": "markdown",
      "source": [
        "<div dir=\"rtl\" lang=\"he\">\n",
        "\n",
        "משתנים מאפשרים לנו לשמור נתונים בזכרון המחשב.\n",
        "ניתן לשמור במשתנים סוגים שונים של ערכים: מספרים, טקסט ועוד.\n",
        "כללים לקביעת שמות משתנים:\n",
        "\n",
        "*   שמות משתנים חייבים להתחיל באות או בקו תחתון _:           name,  _name\n",
        "*   שמות משתנים יכולים להחיל אותיות מספרים וקו תחתון:        myName1,  gilad_name\n",
        "*   אותיות גדולות וקטנות הינן אותיות שונות:                  name, Name\n",
        "*   יש להשתמש בשמות תיאוריים למשתנים המבהירים את מטרתם\n",
        "*   אסור להשתמש במילות מפתח של השפה (מילים שמורות)\n",
        "*   מקובל בפייתון לכתוב משתנים עם אותיות קטנות, כאשר המילים מופרדים בקו תחתון: my_var\n",
        "\n",
        "\n"
      ],
      "metadata": {
        "id": "8xZc6-4iPu8P"
      }
    },
    {
      "cell_type": "markdown",
      "source": [
        "<div dir=\"rtl\" lang=\"he\">\n",
        "\n",
        "##**<pre>  השמה**\n"
      ],
      "metadata": {
        "id": "QAvWnsMBSBhm"
      }
    },
    {
      "cell_type": "markdown",
      "source": [
        "<div dir=\"rtl\" lang=\"he\">\n",
        "\n",
        "השמה נעשית באמצעות האופרטור (=)\n",
        "\n",
        "שימו לב! האופרטור (=) שונה מהשוויון במתמטיקה."
      ],
      "metadata": {
        "id": "p7wGcLuMuvEx"
      }
    },
    {
      "cell_type": "code",
      "source": [
        "name = 'Gilad'\n",
        "age = 57\n",
        "a = 1\n",
        "a = a + 1\n",
        "\n",
        "print(name, 'is', age, 'years old')\n",
        "print(a)"
      ],
      "metadata": {
        "id": "BtDTnK7vTAsm",
        "colab": {
          "base_uri": "https://localhost:8080/"
        },
        "outputId": "903c41ac-6dc4-44b3-ce7c-82e1a4f8de62"
      },
      "execution_count": null,
      "outputs": [
        {
          "output_type": "stream",
          "name": "stdout",
          "text": [
            "Gilad is 57 years old\n",
            "2\n"
          ]
        }
      ]
    },
    {
      "cell_type": "code",
      "source": [
        "print(\"name\", name)"
      ],
      "metadata": {
        "colab": {
          "base_uri": "https://localhost:8080/"
        },
        "id": "WfnHSeiEPjZz",
        "outputId": "7670f24c-f4cd-46f0-d6d7-00a9ff723bc5"
      },
      "execution_count": null,
      "outputs": [
        {
          "output_type": "stream",
          "name": "stdout",
          "text": [
            "name Gilad\n"
          ]
        }
      ]
    },
    {
      "cell_type": "code",
      "source": [
        "a = 1\n",
        "print(a)\n",
        "a = a + 10\n",
        "print(a)\n"
      ],
      "metadata": {
        "colab": {
          "base_uri": "https://localhost:8080/"
        },
        "id": "l9Ozjq4qew2B",
        "outputId": "a7061a20-73d9-41ab-d6e1-1754f4951eb3"
      },
      "execution_count": null,
      "outputs": [
        {
          "output_type": "stream",
          "name": "stdout",
          "text": [
            "1\n",
            "11\n"
          ]
        }
      ]
    },
    {
      "cell_type": "markdown",
      "source": [
        "<div dir=\"rtl\" lang=\"he\">\n",
        "\n",
        "##**<pre>  סוגי משתנים**"
      ],
      "metadata": {
        "id": "TDyfJaZmT7-1"
      }
    },
    {
      "cell_type": "code",
      "source": [
        "name = 'Gilad Markman'\n",
        "age = 57\n",
        "height = 1.84\n",
        "is_bold = False\n",
        "\n",
        "print(type(name))\n",
        "print(type(age))\n",
        "print(type(height))\n",
        "print(type(is_bold))"
      ],
      "metadata": {
        "id": "D6tXFcVQTP2M",
        "colab": {
          "base_uri": "https://localhost:8080/"
        },
        "outputId": "712f44d8-bb30-4e0a-da00-39b8c24b80b0"
      },
      "execution_count": null,
      "outputs": [
        {
          "output_type": "stream",
          "name": "stdout",
          "text": [
            "<class 'str'>\n",
            "<class 'int'>\n",
            "<class 'float'>\n",
            "<class 'bool'>\n"
          ]
        }
      ]
    },
    {
      "cell_type": "code",
      "source": [
        "num = 1\n",
        "num = \"Gilad\"\n",
        "num = \"123\"\n",
        "print(type(num))"
      ],
      "metadata": {
        "id": "46SjUdU0UZJw",
        "colab": {
          "base_uri": "https://localhost:8080/"
        },
        "outputId": "54e82de5-f1fa-45a8-a812-3c6849c58895"
      },
      "execution_count": null,
      "outputs": [
        {
          "output_type": "stream",
          "name": "stdout",
          "text": [
            "<class 'str'>\n"
          ]
        }
      ]
    },
    {
      "cell_type": "code",
      "source": [
        "num1 = 123\n",
        "num2 = \"123\"\n",
        "\n",
        "print(num1 + 456)"
      ],
      "metadata": {
        "colab": {
          "base_uri": "https://localhost:8080/"
        },
        "id": "aTmEELmLfwik",
        "outputId": "2305c9de-19fc-4d0f-86ac-f78d044d7e55"
      },
      "execution_count": null,
      "outputs": [
        {
          "output_type": "stream",
          "name": "stdout",
          "text": [
            "579\n"
          ]
        }
      ]
    },
    {
      "cell_type": "markdown",
      "source": [
        "<div dir=\"rtl\" lang=\"he\">\n",
        "\n",
        "##**<pre>  המרה - casting**\n"
      ],
      "metadata": {
        "id": "87Ji5IvuVX5M"
      }
    },
    {
      "cell_type": "markdown",
      "source": [
        "\n",
        "<div dir=\"rtl\">\n",
        "\n",
        "ניתן להמיר בין סוגי אובייקטים באמצעות פקודות ההמרה הבאות:"
      ],
      "metadata": {
        "id": "9nN5VjkzvQTW"
      }
    },
    {
      "cell_type": "code",
      "source": [
        "f1 = int(\"123\")\n",
        "print(f1)"
      ],
      "metadata": {
        "id": "JD_8-dm-VkCM",
        "colab": {
          "base_uri": "https://localhost:8080/"
        },
        "outputId": "c9d76d77-81b3-445e-d21d-33632aeba56f"
      },
      "execution_count": null,
      "outputs": [
        {
          "output_type": "stream",
          "name": "stdout",
          "text": [
            "123\n"
          ]
        }
      ]
    },
    {
      "cell_type": "code",
      "source": [
        "f2 = float(123)\n",
        "i1 = int(123.5)\n",
        "i2 = int(\"123\")\n",
        "st = str(123.0)\n",
        "print(f1, f2, i1, i2, st)\n",
        "print(type(f1), type(f2), type(i1), type(i2), type(st))"
      ],
      "metadata": {
        "colab": {
          "base_uri": "https://localhost:8080/"
        },
        "id": "gqKm9dDGQ5uB",
        "outputId": "3fb579c5-5639-4a0d-afc9-f56e1f9d7ab9"
      },
      "execution_count": null,
      "outputs": [
        {
          "output_type": "stream",
          "name": "stdout",
          "text": [
            "123 123.0 123 123 123.0\n",
            "<class 'int'> <class 'float'> <class 'int'> <class 'int'> <class 'str'>\n"
          ]
        }
      ]
    },
    {
      "cell_type": "code",
      "source": [
        "num = int(\"abc\")"
      ],
      "metadata": {
        "colab": {
          "base_uri": "https://localhost:8080/",
          "height": 141
        },
        "collapsed": true,
        "id": "tcK0oCDzgcpw",
        "outputId": "ef98664f-5571-45a7-a503-7fb1e6dc32f9"
      },
      "execution_count": null,
      "outputs": [
        {
          "output_type": "error",
          "ename": "ValueError",
          "evalue": "invalid literal for int() with base 10: 'abc'",
          "traceback": [
            "\u001b[0;31m---------------------------------------------------------------------------\u001b[0m",
            "\u001b[0;31mValueError\u001b[0m                                Traceback (most recent call last)",
            "\u001b[0;32m<ipython-input-21-9fb74b25f018>\u001b[0m in \u001b[0;36m<cell line: 1>\u001b[0;34m()\u001b[0m\n\u001b[0;32m----> 1\u001b[0;31m \u001b[0mnum\u001b[0m \u001b[0;34m=\u001b[0m \u001b[0mint\u001b[0m\u001b[0;34m(\u001b[0m\u001b[0;34m\"abc\"\u001b[0m\u001b[0;34m)\u001b[0m\u001b[0;34m\u001b[0m\u001b[0;34m\u001b[0m\u001b[0m\n\u001b[0m",
            "\u001b[0;31mValueError\u001b[0m: invalid literal for int() with base 10: 'abc'"
          ]
        }
      ]
    },
    {
      "cell_type": "markdown",
      "source": [
        "<div dir=\"rtl\" lang=\"he\">\n",
        "\n",
        "---\n",
        "\n",
        "#**<pre>          אופרטורים ופונקציות מינימום, מקסימום וערך מוחלט**"
      ],
      "metadata": {
        "id": "u79jMa5gUpu2"
      }
    },
    {
      "cell_type": "markdown",
      "source": [
        "<div dir=\"rtl\" lang=\"he\">\n",
        "\n",
        "##**<pre>  אופרטורים מספריים**"
      ],
      "metadata": {
        "id": "yyk4657ilfrp"
      }
    },
    {
      "cell_type": "code",
      "source": [
        "a = 3 + 5   # חיבור\n",
        "b = 3 - 5   # חיסור\n",
        "c = 3 * 5   # כפל\n",
        "d = 3 / 5   # חילוק\n",
        "e = 3 // 5  # חילוק ללא שארית\n",
        "f = 3 % 5   # שארית\n",
        "g = 3 ** 5  # חזקה"
      ],
      "metadata": {
        "id": "AItXPULeVHtQ"
      },
      "execution_count": null,
      "outputs": []
    },
    {
      "cell_type": "code",
      "source": [
        "print(15 // 7)"
      ],
      "metadata": {
        "colab": {
          "base_uri": "https://localhost:8080/"
        },
        "id": "weBqoqESg0iw",
        "outputId": "69fad44e-c2d0-4236-e317-ef6031022e78"
      },
      "execution_count": null,
      "outputs": [
        {
          "output_type": "stream",
          "name": "stdout",
          "text": [
            "2\n"
          ]
        }
      ]
    },
    {
      "cell_type": "code",
      "source": [
        "num = 352\n",
        "a = num % 10\n",
        "print(a)\n",
        "num = num // 10\n",
        "print(num)\n",
        "b = num % 10\n",
        "print(b)"
      ],
      "metadata": {
        "colab": {
          "base_uri": "https://localhost:8080/"
        },
        "id": "JLcRT2tGg45E",
        "outputId": "180dc994-0f7d-4435-885b-d4cd6eeae23d"
      },
      "execution_count": null,
      "outputs": [
        {
          "output_type": "stream",
          "name": "stdout",
          "text": [
            "2\n",
            "35\n",
            "5\n"
          ]
        }
      ]
    },
    {
      "cell_type": "markdown",
      "source": [
        "<div dir=\"rtl\" lang=\"he\">\n",
        "\n",
        "##**<pre>  אופרטורים של מחרוזות**"
      ],
      "metadata": {
        "id": "ungVjtnEmAwe"
      }
    },
    {
      "cell_type": "code",
      "source": [
        "a = \"3\"\n",
        "b = \"5\"\n",
        "c = a + b   # שירשור  concatenation\n",
        "print(c)"
      ],
      "metadata": {
        "id": "rpkYWulTmMrh",
        "colab": {
          "base_uri": "https://localhost:8080/"
        },
        "outputId": "231f8104-cd1e-4924-ec43-98212a791a10"
      },
      "execution_count": null,
      "outputs": [
        {
          "output_type": "stream",
          "name": "stdout",
          "text": [
            "8\n"
          ]
        }
      ]
    },
    {
      "cell_type": "code",
      "source": [
        "d = \"*\" * 25   # חזרה של מחרוזת\n",
        "print (d)"
      ],
      "metadata": {
        "id": "W2RdQLevmW-h",
        "colab": {
          "base_uri": "https://localhost:8080/"
        },
        "outputId": "51f544f1-8059-4c79-ffc0-d2ca0b5ea9c8"
      },
      "execution_count": null,
      "outputs": [
        {
          "output_type": "stream",
          "name": "stdout",
          "text": [
            "*************************\n"
          ]
        }
      ]
    },
    {
      "cell_type": "code",
      "source": [
        "n = 5\n",
        "print (\"Gilad\" + n) # str(n)"
      ],
      "metadata": {
        "id": "55oCbBaVm01f",
        "colab": {
          "base_uri": "https://localhost:8080/"
        },
        "outputId": "5b3f46c5-14be-4b83-baa4-bd660b45eec4"
      },
      "execution_count": null,
      "outputs": [
        {
          "output_type": "stream",
          "name": "stdout",
          "text": [
            "Gilad5\n"
          ]
        }
      ]
    },
    {
      "cell_type": "markdown",
      "source": [
        "<div dir=\"rtl\" lang=\"he\">\n",
        "\n",
        "##**<pre>  אופרטורים בוליאניים**"
      ],
      "metadata": {
        "id": "YRLZNYWfnCi7"
      }
    },
    {
      "cell_type": "markdown",
      "source": [
        "<div dir=\"rtl\">\n",
        "\n",
        "אופרטוקים בוליאניים מחזירים לנו שתי אפשרויות: אמת או שקר\n",
        "\n",
        "True / False"
      ],
      "metadata": {
        "id": "YVldEbpMwH7K"
      }
    },
    {
      "cell_type": "code",
      "source": [
        "a = 3.5\n",
        "b = 5\n",
        "print (2 > 3)\n",
        "print (a < 3)\n",
        "print (b >= a)\n",
        "print (a <= b)\n",
        "print (a == 3.5)\n",
        "print (b != 3)\n"
      ],
      "metadata": {
        "collapsed": true,
        "id": "fK0SII7znIOI",
        "colab": {
          "base_uri": "https://localhost:8080/"
        },
        "outputId": "57d117cc-4128-4e2c-ce64-fddebac9d4fa"
      },
      "execution_count": null,
      "outputs": [
        {
          "output_type": "stream",
          "name": "stdout",
          "text": [
            "False\n",
            "False\n",
            "True\n",
            "True\n",
            "True\n",
            "True\n"
          ]
        }
      ]
    },
    {
      "cell_type": "code",
      "source": [
        "res = 2 < 3\n",
        "print(res)"
      ],
      "metadata": {
        "colab": {
          "base_uri": "https://localhost:8080/"
        },
        "id": "0swCWq5NiHud",
        "outputId": "cc429b71-8831-40a4-c4a6-230252f695f9"
      },
      "execution_count": null,
      "outputs": [
        {
          "output_type": "stream",
          "name": "stdout",
          "text": [
            "True\n"
          ]
        }
      ]
    },
    {
      "cell_type": "code",
      "source": [
        "print (2 > 4 and 3 < 5)\n",
        "print ( 3 < a < 5)\n",
        "print ( a > 3 or b < 5)\n",
        "print (not 2 > 4)\n"
      ],
      "metadata": {
        "id": "gkU4aqBSoP8W",
        "colab": {
          "base_uri": "https://localhost:8080/"
        },
        "outputId": "b284f259-e050-4c15-fa37-c1c72b5af2b5"
      },
      "execution_count": null,
      "outputs": [
        {
          "output_type": "stream",
          "name": "stdout",
          "text": [
            "False\n",
            "True\n",
            "True\n",
            "True\n"
          ]
        }
      ]
    },
    {
      "cell_type": "code",
      "source": [
        "print (\"Gilad\" in \"Gilad Markman\")\n",
        "print (\"gilad\" not in \"Gilad Markman\")"
      ],
      "metadata": {
        "id": "Zq_apZ8DohH3",
        "colab": {
          "base_uri": "https://localhost:8080/"
        },
        "outputId": "545c79a2-9e2f-42b1-cd2d-0d1b7600752c"
      },
      "execution_count": null,
      "outputs": [
        {
          "output_type": "stream",
          "name": "stdout",
          "text": [
            "True\n",
            "True\n"
          ]
        }
      ]
    },
    {
      "cell_type": "markdown",
      "source": [
        "<div dir=\"rtl\" lang=\"he\">\n",
        "\n",
        "##**<pre>  הפונקציות מינימום, מקסימום וערך מוחלט**"
      ],
      "metadata": {
        "id": "v8ZAd3zEQoBz"
      }
    },
    {
      "cell_type": "code",
      "source": [
        "print (min(3,5,1, -1))\n",
        "print (max(3,5,1))\n",
        "print (abs(-5))"
      ],
      "metadata": {
        "colab": {
          "base_uri": "https://localhost:8080/"
        },
        "id": "4ISBTTKLQ0Yc",
        "outputId": "9229ec17-a053-4e3b-d932-010d0b0c1265"
      },
      "execution_count": null,
      "outputs": [
        {
          "output_type": "stream",
          "name": "stdout",
          "text": [
            "-1\n",
            "5\n",
            "5\n"
          ]
        }
      ]
    },
    {
      "cell_type": "code",
      "source": [
        "a = 1\n",
        "min_value = min(3,5,a, -1)\n",
        "print(min_value)"
      ],
      "metadata": {
        "colab": {
          "base_uri": "https://localhost:8080/"
        },
        "id": "jwSCNo2KTr1G",
        "outputId": "4ee56001-98b7-4b9f-fc04-6cef9e6aaaf9"
      },
      "execution_count": null,
      "outputs": [
        {
          "output_type": "stream",
          "name": "stdout",
          "text": [
            "-1\n"
          ]
        }
      ]
    },
    {
      "cell_type": "markdown",
      "source": [
        "<div dir=\"rtl\" lang=\"he\">\n",
        "\n",
        "---\n",
        "\n",
        "#**<pre>          קלט - input**"
      ],
      "metadata": {
        "id": "8NG-h987VLsq"
      }
    },
    {
      "cell_type": "markdown",
      "source": [
        "<div dir=\"rtl\">\n",
        "\n",
        "פעולות המאפשרות לנו לקלוט נתונים מן המשתמש. אנחנו נלמד כיצד לקלוט נתונים שמזים המשתמש באמצעות המקלטת."
      ],
      "metadata": {
        "id": "kVEB6nKMwe0b"
      }
    },
    {
      "cell_type": "code",
      "source": [
        "num1 = input(\"Enter first number: \")\n",
        "num2 = input(\"Enter second number: \")\n",
        "print(num1 + num2)"
      ],
      "metadata": {
        "colab": {
          "base_uri": "https://localhost:8080/"
        },
        "id": "8-CyU6-SVVrw",
        "outputId": "7912e26c-e9dc-4cc4-b42a-c8961d608c35"
      },
      "execution_count": null,
      "outputs": [
        {
          "output_type": "stream",
          "name": "stdout",
          "text": [
            "Enter first number: 5\n",
            "Enter second number: 2\n",
            "52\n"
          ]
        }
      ]
    },
    {
      "cell_type": "code",
      "source": [
        "print(type(num1))"
      ],
      "metadata": {
        "colab": {
          "base_uri": "https://localhost:8080/"
        },
        "id": "g1GlhA_3j5e1",
        "outputId": "c36bb656-5080-4886-f20e-239e59f023fc"
      },
      "execution_count": null,
      "outputs": [
        {
          "output_type": "stream",
          "name": "stdout",
          "text": [
            "<class 'str'>\n"
          ]
        }
      ]
    },
    {
      "cell_type": "code",
      "source": [
        "num1 = input(\"Enter first number: \")\n",
        "num1 = float(num1)\n",
        "\n",
        "num2 = float(input(\"Enter second number: \"))\n",
        "print(num1 + num2)"
      ],
      "metadata": {
        "colab": {
          "base_uri": "https://localhost:8080/"
        },
        "id": "9Dl5fc2YQXoO",
        "outputId": "e26c6773-cde9-488c-8961-75263f2a3426"
      },
      "execution_count": null,
      "outputs": [
        {
          "output_type": "stream",
          "name": "stdout",
          "text": [
            "Enter first number: 5\n",
            "Enter second number: 2\n",
            "7.0\n"
          ]
        }
      ]
    },
    {
      "cell_type": "markdown",
      "source": [
        "<div dir=\"rtl\" lang=\"he\">\n",
        "\n",
        "---\n",
        "\n",
        "#**<pre>          תיעוד והערות**"
      ],
      "metadata": {
        "id": "2_DCrIp-WWq0"
      }
    },
    {
      "cell_type": "markdown",
      "source": [
        "<div dir=\"rtl\" lang=\"he\">\n",
        "\n",
        "\n",
        "*   בכל הגשה של קובץ פיתון, צרו הערה בשורה הראשונה בקובץ, שתכיל את שמכם ואת מספר תעודת הזהות שלכם.\n",
        "*   השתמשו בהערות כדי לתאר את הפעולה שעושה הקוד שאתם מגישים.\n",
        "*   רישמו הערה בתחילת הקוד / הפונקציה המסבירה את האלגוריתם\n",
        "*   הוסיפו הערה לכל שורה שיש בה משמעות מיוחדת, על מנת להסביר את פעולת הקוד שלכם\n",
        "\n",
        "\n",
        "\n"
      ],
      "metadata": {
        "id": "eoXjgigdptAn"
      }
    },
    {
      "cell_type": "code",
      "source": [
        "'''\n",
        "הקוד קולט שני מספרים, מחבר אותם ומדפיס את התוצאה\n",
        "עוד שורה\n",
        "'''\n",
        "num1 = float(input(\"Enter first number: \"))\n",
        "num2 = float(input(\"Enter second number: \"))\n",
        "res = num1 + num2     # חיבור של הקלטים\n",
        "print(res)"
      ],
      "metadata": {
        "id": "ryod4X-OWb9a",
        "colab": {
          "base_uri": "https://localhost:8080/"
        },
        "outputId": "66795950-0bfc-4712-dcf7-a1ce3d9364c6"
      },
      "execution_count": null,
      "outputs": [
        {
          "output_type": "stream",
          "name": "stdout",
          "text": [
            "Enter first number: 23\n",
            "Enter second number: 11\n",
            "34.0\n"
          ]
        }
      ]
    },
    {
      "cell_type": "markdown",
      "source": [
        "<div dir=\"rtl\" lang=\"he\">\n",
        "\n",
        "---\n",
        "\n",
        "# **<pre>          תרגילים**"
      ],
      "metadata": {
        "id": "dk0PWAY-O8Kc"
      }
    },
    {
      "cell_type": "markdown",
      "source": [
        "<div dir=\"rtl\" lang=\"he\">\n",
        "\n",
        "##**<pre>  תרגיל - שטח משולש**\n",
        "\n",
        "\n",
        "כתוב תוכנית המקבלת מהמשתמש בסיס וגובה של משולש. התוכנית תדפיס את השטח של המשולש.\n",
        "\n",
        "יש להדפיס למשתמש הוראות אילו נתונים להכניס. הפלט צריך להיות בסגנון הזה:\n",
        "\n",
        "The area of the triangle is 25"
      ],
      "metadata": {
        "id": "zKzKTgofty3P"
      }
    },
    {
      "cell_type": "code",
      "source": [
        "height_txt = input(\"Please enter the height: \")\n",
        "height = float(height_txt)\n",
        "\n",
        "base = input(\"Please enter the length of the base: \")\n",
        "base = float(base)\n",
        "\n",
        "area = (base * height) / 2\n",
        "print(\"The area of the triangle is: \", area)\n"
      ],
      "metadata": {
        "colab": {
          "base_uri": "https://localhost:8080/"
        },
        "id": "2mre2hh3w51C",
        "outputId": "8cdb4cf8-c4ca-47dc-fccf-2fa9f0bf2174"
      },
      "execution_count": null,
      "outputs": [
        {
          "output_type": "stream",
          "name": "stdout",
          "text": [
            "Please enter the height: 10.5\n",
            "Please enter the length of the base: 2.2\n",
            "The area of the triangle is:  11.55\n"
          ]
        }
      ]
    },
    {
      "cell_type": "markdown",
      "source": [
        "<div dir=\"rtl\" lang=\"he\">\n",
        "\n",
        "##**<pre>  תרגיל - הדפסת מעוינים**\n",
        "\n",
        "\n",
        "כתוב תוכנית המדפיסה מעויין מכוכביות לפי הדוגמה הבאה.\n",
        "\n",
        "המעויין יודפס באמצע הדף\n",
        "\n",
        "![diamond](https://drive.google.com/uc?export=view&id=1yVRziLAPQYTpnc7y2DMyMdaaTqPkc_Lk)\n"
      ],
      "metadata": {
        "id": "jq6P4Hruucha"
      }
    },
    {
      "cell_type": "code",
      "source": [
        "print(\"\\t\"* 8, \" \" * 10, \"*\" * 5)\n",
        "print(\"\\t\"* 8,\" \" * 5, \"*\" * 15)\n",
        "print(\"\\t\"* 8,\" \" * 0, \"*\" * 25)"
      ],
      "metadata": {
        "colab": {
          "base_uri": "https://localhost:8080/"
        },
        "id": "aRvTYJirqjBW",
        "outputId": "f3b3b07f-963e-4380-c912-0ecba80761e6"
      },
      "execution_count": null,
      "outputs": [
        {
          "output_type": "stream",
          "name": "stdout",
          "text": [
            "\t\t\t\t\t\t\t\t            *****\n",
            "\t\t\t\t\t\t\t\t       ***************\n",
            "\t\t\t\t\t\t\t\t  *************************\n"
          ]
        }
      ]
    },
    {
      "cell_type": "code",
      "source": [
        "print(\"\\t\"* 4,\" \" * 10, \"*\" * 5)\n",
        "print(\"\\t\"* 4,\" \" * 5, \"*\" * 15)\n",
        "print(\"\\t\"* 4,\" \" * 0, \"*\" * 25)\n",
        "print(\"\\t\"* 4,\" \" * 5, \"*\" * 15)\n",
        "print(\"\\t\"* 4,\" \" * 10, \"*\" * 5)"
      ],
      "metadata": {
        "id": "Ldc3NLIsuqeE",
        "colab": {
          "base_uri": "https://localhost:8080/"
        },
        "outputId": "850b1d34-11b3-4c60-9509-c0c010b2a160"
      },
      "execution_count": null,
      "outputs": [
        {
          "output_type": "stream",
          "name": "stdout",
          "text": [
            "\t\t\t\t            *****\n",
            "\t\t\t\t       ***************\n",
            "\t\t\t\t  *************************\n",
            "\t\t\t\t       ***************\n",
            "\t\t\t\t            *****\n"
          ]
        }
      ]
    },
    {
      "cell_type": "markdown",
      "source": [
        "<div dir=\"rtl\" lang=\"he\">\n",
        "\n",
        "##**<pre>  תרגיל - שם פרטי ומשפחה**\n",
        "\n",
        "\n",
        "כתוב תוכנית הקולטת לתוך משתנה אחד את השם הפרטי, ולתוך משתנה שני את שם המשפחה.\n",
        "\n",
        "שרשרו את שני השמות לתוך משתנה אחד עם רווח ביניהם.\n",
        "\n",
        "הדפיסו את השם המלא 50 פעמים, כאשר כל שם בשורה נפרדת.\n"
      ],
      "metadata": {
        "id": "OD1K43ZaxNYm"
      }
    },
    {
      "cell_type": "code",
      "source": [
        "fname = input (\"Enter first name: \")\n",
        "lname = input (\"Enter last name: \")\n",
        "full_name = fname + \" \" + lname + \"\\n\"\n",
        "print(full_name*50)"
      ],
      "metadata": {
        "id": "1NpLyKnjyF7l",
        "colab": {
          "base_uri": "https://localhost:8080/"
        },
        "outputId": "aa8b0982-e2a1-4b1d-8907-74500ac1f46d"
      },
      "execution_count": null,
      "outputs": [
        {
          "output_type": "stream",
          "name": "stdout",
          "text": [
            "Enter first name: Gilad\n",
            "Enter last name: Markman\n",
            "Gilad Markman\tGilad Markman\tGilad Markman\tGilad Markman\tGilad Markman\tGilad Markman\tGilad Markman\tGilad Markman\tGilad Markman\tGilad Markman\tGilad Markman\tGilad Markman\tGilad Markman\tGilad Markman\tGilad Markman\tGilad Markman\tGilad Markman\tGilad Markman\tGilad Markman\tGilad Markman\tGilad Markman\tGilad Markman\tGilad Markman\tGilad Markman\tGilad Markman\tGilad Markman\tGilad Markman\tGilad Markman\tGilad Markman\tGilad Markman\tGilad Markman\tGilad Markman\tGilad Markman\tGilad Markman\tGilad Markman\tGilad Markman\tGilad Markman\tGilad Markman\tGilad Markman\tGilad Markman\tGilad Markman\tGilad Markman\tGilad Markman\tGilad Markman\tGilad Markman\tGilad Markman\tGilad Markman\tGilad Markman\tGilad Markman\tGilad Markman\t\n"
          ]
        }
      ]
    },
    {
      "cell_type": "markdown",
      "source": [
        "<div dir=\"rtl\" lang=\"he\">\n",
        "\n",
        "##**<pre>  תרגיל - חישובים פשוטים**\n",
        "\n",
        "כתוב תוכנית הקולטת 2 מספרים ומדפיסה את סכומם, והממוצע שלהם"
      ],
      "metadata": {
        "id": "NB8Miqx1P030"
      }
    },
    {
      "cell_type": "code",
      "source": [
        "num1 = float(input(\"Enter first number: \"))\n",
        "num2 = float(input(\"Enter second number: \"))\n",
        "print(\"num1 + num2 = \", num1 + num2)\n",
        "print(\"The average is: \", (num1 + num2)/2)\n"
      ],
      "metadata": {
        "id": "1irZ8TgbP1Va",
        "colab": {
          "base_uri": "https://localhost:8080/"
        },
        "outputId": "436cfbab-d969-46cf-9c6a-ecf82bcec1a5"
      },
      "execution_count": null,
      "outputs": [
        {
          "output_type": "stream",
          "name": "stdout",
          "text": [
            "Enter first number: 10\n",
            "Enter second number: 10.5\n",
            "num1 + num2 =  20.5\n",
            "The average is:  10.25\n"
          ]
        }
      ]
    },
    {
      "cell_type": "markdown",
      "source": [
        "<div dir=\"rtl\" lang=\"he\">\n",
        "\n",
        "---\n",
        "\n",
        "#**<pre>          מחרוזות**"
      ],
      "metadata": {
        "id": "FKs-4JkGxVD4"
      }
    },
    {
      "cell_type": "markdown",
      "source": [
        "<div dir=\"rtl\">\n",
        "\n",
        "##**<pre> המרת תו לקוד אסקי**"
      ],
      "metadata": {
        "id": "fXFjx6vSP8o9"
      }
    },
    {
      "cell_type": "markdown",
      "source": [
        "<div dir=\"rtl\" lang=\"he\">\n",
        "\n",
        "מחרוזת בנויה ממספר תווים characters (char).\n",
        "\n",
        "כל תו מיוצג במחשב באמצעות מספר בהתאם לטבלת ASCII.\n",
        "\n",
        "ניתן להמיר תו למספר אסקי ובחזרה באמצעות הפקודות הבאות:\n",
        "\n",
        "*   ord(char)\n",
        "*   chr(value)\n",
        "\n",
        "\n",
        "<center>\n",
        "<img src=\"https://drive.google.com/uc?export=view&id=1MOkf9fUphOlkdj5aJquQ_M4rqcsZMH1B\" width=\"800\"/>\n",
        "</center>\n",
        "\n"
      ],
      "metadata": {
        "id": "GoqoGJPdxpeE"
      }
    },
    {
      "cell_type": "code",
      "source": [
        "print (ord('a'), ord('A'), ord('א'))\n",
        "print (chr(97), chr(65))"
      ],
      "metadata": {
        "colab": {
          "base_uri": "https://localhost:8080/"
        },
        "id": "xz14_pB4y-vU",
        "outputId": "2f0408cd-5a72-4b8f-b197-668a6e967fe1"
      },
      "execution_count": null,
      "outputs": [
        {
          "output_type": "stream",
          "name": "stdout",
          "text": [
            "97 65 1488\n",
            "a A\n"
          ]
        }
      ]
    },
    {
      "cell_type": "markdown",
      "source": [
        "<div dir=\"rtl\" lang=\"he\">\n",
        "\n",
        "##**<pre>  פניה לתו במחרוזת**\n"
      ],
      "metadata": {
        "id": "NbBnYH6JzVVw"
      }
    },
    {
      "cell_type": "markdown",
      "source": [
        "<div dir=\"rtl\">\n",
        "\n",
        "ניתן לקרוא תו בודד מתוך מחרוזת באמצעות האינדקס שלו.\n",
        "\n",
        "*   האינדקס הראשון הוא 0\n",
        "*   מספר התווים במחרוזת מתקבל על ידי הפונקציה len\n",
        "*   אינדקס שלילי סופר מהסוף להתחלה"
      ],
      "metadata": {
        "id": "jDbFxg0a2ZXP"
      }
    },
    {
      "cell_type": "code",
      "source": [
        "name = \"Gilad Markman\"\n",
        "ch1 = name[5]\n",
        "print (ch1)\n",
        "print(ord(ch1))"
      ],
      "metadata": {
        "colab": {
          "base_uri": "https://localhost:8080/"
        },
        "id": "nFvkEeBrAY_Z",
        "outputId": "e9e6aecb-e389-48a3-955c-7d56f66da880"
      },
      "execution_count": null,
      "outputs": [
        {
          "output_type": "stream",
          "name": "stdout",
          "text": [
            " \n",
            "32\n"
          ]
        }
      ]
    },
    {
      "cell_type": "code",
      "source": [
        "name = \"Gilad\"\n",
        "print(len(name))\n",
        "print (name[len(name)-1])\n",
        "print(name[-2])"
      ],
      "metadata": {
        "colab": {
          "base_uri": "https://localhost:8080/"
        },
        "collapsed": true,
        "id": "yibW409kW4w8",
        "outputId": "ad4669a3-ac3d-4c3b-ec3a-5cac70f62b68"
      },
      "execution_count": null,
      "outputs": [
        {
          "output_type": "stream",
          "name": "stdout",
          "text": [
            "5\n",
            "d\n",
            "a\n"
          ]
        }
      ]
    },
    {
      "cell_type": "code",
      "source": [
        "l = len(name)\n",
        "print(l)"
      ],
      "metadata": {
        "colab": {
          "base_uri": "https://localhost:8080/"
        },
        "id": "IKko2VOuvugW",
        "outputId": "1ec4b48b-ac14-4a81-eadf-150d5400b7c4"
      },
      "execution_count": null,
      "outputs": [
        {
          "output_type": "stream",
          "name": "stdout",
          "text": [
            "13\n"
          ]
        }
      ]
    },
    {
      "cell_type": "code",
      "source": [
        "print(name[l-1])"
      ],
      "metadata": {
        "colab": {
          "base_uri": "https://localhost:8080/"
        },
        "id": "mWw86vn_v7X9",
        "outputId": "d216c708-8773-45c9-fb6c-9f5f8bd52622"
      },
      "execution_count": null,
      "outputs": [
        {
          "output_type": "stream",
          "name": "stdout",
          "text": [
            "n\n"
          ]
        }
      ]
    },
    {
      "cell_type": "code",
      "source": [
        "txt = \"1234\"\n",
        "print(txt[3])"
      ],
      "metadata": {
        "colab": {
          "base_uri": "https://localhost:8080/"
        },
        "id": "Jr4TrDnkwbDB",
        "outputId": "afe775e1-cda2-47c5-d923-cc360d9ac649"
      },
      "execution_count": null,
      "outputs": [
        {
          "output_type": "stream",
          "name": "stdout",
          "text": [
            "4\n"
          ]
        }
      ]
    },
    {
      "cell_type": "markdown",
      "source": [
        "<div dir=\"rtl\" lang=\"he\">\n",
        "\n",
        "##**<pre>  חיתוך מחרוזות - Slice**\n"
      ],
      "metadata": {
        "id": "Fn5SSNVABRtb"
      }
    },
    {
      "cell_type": "markdown",
      "source": [
        "<div dir=\"rtl\">\n",
        "\n",
        "ניתן לגשת לקטעים במחרוזת על ידי ציון טווח של האינדקסים"
      ],
      "metadata": {
        "id": "jS5cQB_h2iLz"
      }
    },
    {
      "cell_type": "code",
      "source": [
        "name = \"Gilad Markman\""
      ],
      "metadata": {
        "id": "xpd4NP0zxAgy"
      },
      "execution_count": null,
      "outputs": []
    },
    {
      "cell_type": "code",
      "source": [
        "print(name[3:4])"
      ],
      "metadata": {
        "colab": {
          "base_uri": "https://localhost:8080/"
        },
        "id": "fvykwaNmxKVd",
        "outputId": "9fec1e97-c9d8-410a-ca4b-8ea4dd2bcdbf"
      },
      "execution_count": null,
      "outputs": [
        {
          "output_type": "stream",
          "name": "stdout",
          "text": [
            "a\n"
          ]
        }
      ]
    },
    {
      "cell_type": "code",
      "source": [
        "print(name[3:])"
      ],
      "metadata": {
        "colab": {
          "base_uri": "https://localhost:8080/"
        },
        "id": "EOX4kP2excf2",
        "outputId": "d7c6fe92-605b-47af-dc35-c0843c7466e0"
      },
      "execution_count": null,
      "outputs": [
        {
          "output_type": "stream",
          "name": "stdout",
          "text": [
            "ad Markman\n"
          ]
        }
      ]
    },
    {
      "cell_type": "code",
      "source": [
        "print(name[:7])"
      ],
      "metadata": {
        "colab": {
          "base_uri": "https://localhost:8080/"
        },
        "id": "LFSL66rfxiv-",
        "outputId": "ee63f4a2-8e81-4009-91b5-4e0622f1245e"
      },
      "execution_count": null,
      "outputs": [
        {
          "output_type": "stream",
          "name": "stdout",
          "text": [
            "Gilad M\n"
          ]
        }
      ]
    },
    {
      "cell_type": "code",
      "source": [
        "print(name[2:-2])"
      ],
      "metadata": {
        "colab": {
          "base_uri": "https://localhost:8080/"
        },
        "id": "IJlwgNBtxoqC",
        "outputId": "78131c03-3ba6-4e3a-bcc5-3bdbfefb023c"
      },
      "execution_count": null,
      "outputs": [
        {
          "output_type": "stream",
          "name": "stdout",
          "text": [
            "lad Markm\n"
          ]
        }
      ]
    },
    {
      "cell_type": "code",
      "source": [
        "first_name = name[0:5]\n",
        "last_name = name[6:] # מאינדקס 6 עד הסוף\n",
        "new_name = last_name + \" \" + first_name # שירשור מחרוזות\n",
        "print(new_name)\n",
        "last_name = name[-7:] # שימוש באינדקס שלילי\n",
        "print(last_name)"
      ],
      "metadata": {
        "colab": {
          "base_uri": "https://localhost:8080/"
        },
        "id": "r7PiXpPEBi6s",
        "outputId": "b4aea422-af67-422a-a611-0164eb38ffc4"
      },
      "execution_count": null,
      "outputs": [
        {
          "output_type": "stream",
          "name": "stdout",
          "text": [
            "Markman Gilad\n",
            "Markman\n"
          ]
        }
      ]
    },
    {
      "cell_type": "markdown",
      "source": [
        "<div dir=\"rtl\" lang=\"he\">\n",
        "\n",
        "##**<pre>  פונקציות על מחרוזות**"
      ],
      "metadata": {
        "id": "YhqeRj_FDMMs"
      }
    },
    {
      "cell_type": "code",
      "source": [
        "name = \"Gilad Markman\"\n",
        "number = \"3456\"\n",
        "print(len(name))                          # מחזיר אורך המחרוזת\n",
        "new_name = name.replace(\"Gilad\",\"Yoav\")   # מחליף מחרוזת במחרוזת ומחזיר מחלוקת חדשה\n",
        "print(new_name)\n",
        "print(number.isalpha())                   # מחזיר אמת אם כל התווים אותיות\n",
        "print(number.isdigit())                   # מדפיס אמת אם כל התווים ספרות\n"
      ],
      "metadata": {
        "colab": {
          "base_uri": "https://localhost:8080/"
        },
        "id": "PTeJDvVQDQOZ",
        "outputId": "1c3b4415-bdc0-49cc-ab69-f40f3d84bfcf"
      },
      "execution_count": null,
      "outputs": [
        {
          "output_type": "stream",
          "name": "stdout",
          "text": [
            "13\n",
            "Yoav Markman\n",
            "False\n",
            "True\n"
          ]
        }
      ]
    },
    {
      "cell_type": "code",
      "source": [
        "name = \"Gilad Markman\"\n",
        "# print(name.replace(\"Gilad\", \"Yoav\"))\n",
        "new_name = name.replace(\"Gilad\", \"Yoav\")\n",
        "print(name, new_name)"
      ],
      "metadata": {
        "colab": {
          "base_uri": "https://localhost:8080/"
        },
        "id": "hOdraNuQx4CZ",
        "outputId": "d473ffb0-0e9d-4764-e432-023481ee00a7"
      },
      "execution_count": null,
      "outputs": [
        {
          "output_type": "stream",
          "name": "stdout",
          "text": [
            "Gilad Markman Yoav Markman\n"
          ]
        }
      ]
    },
    {
      "cell_type": "code",
      "source": [
        "txt = \"hello World !\"\n",
        "i = txt.find('o')         # -1 מחזיר את האינדקס של התו הראשון, אם לא קיים יחזיר\n",
        "print(i)\n",
        "print(txt.capitalize())   # מחזיר מחרוזת חדשה שהאות הראשונה היא אות גדולה\n",
        "Upper_txt = txt.upper()\n",
        "print(Upper_txt, txt)        # מחזיר מחרוזת חדשה שכל האותיות גדולות\n",
        "print(txt.lower())        # מחזיר מחרוזת חדשה שכל האותיות קטנות\n",
        "lower = txt.lower()\n",
        "print(lower)"
      ],
      "metadata": {
        "colab": {
          "base_uri": "https://localhost:8080/"
        },
        "id": "KJYvb_FKj-H-",
        "outputId": "130f87d4-62cc-41d2-dbe3-fc0d19b61a17"
      },
      "execution_count": null,
      "outputs": [
        {
          "output_type": "stream",
          "name": "stdout",
          "text": [
            "4\n",
            "Hello world !\n",
            "HELLO WORLD !\n",
            "hello world !\n",
            "hello world !\n"
          ]
        }
      ]
    },
    {
      "cell_type": "code",
      "source": [
        "txt1 = \"   hello my  \"\n",
        "txt2 = \"   world  \"\n",
        "print(txt1 + txt2)                  # מחזיר מחרוזת חדשה לאחר ביטול רווחים בהתחלה ובסוף\n",
        "print(txt1.strip() + txt2.strip())\n",
        "print(txt1.rstrip() + \" \" + txt2.lstrip()) # מחזיר מחרוזת חדשה לאחר ביטול רווחים בשמאל או בימין"
      ],
      "metadata": {
        "colab": {
          "base_uri": "https://localhost:8080/"
        },
        "id": "TG_dxvDzlyuQ",
        "outputId": "f82ad151-9886-46f1-9687-cea6d3a3c47b"
      },
      "execution_count": null,
      "outputs": [
        {
          "output_type": "stream",
          "name": "stdout",
          "text": [
            "   hello my     world  \n",
            "hello myworld\n",
            "   hello my world  \n"
          ]
        }
      ]
    },
    {
      "cell_type": "code",
      "source": [
        "txt = \"HELLO\"\n",
        "new_txt = txt.lower()\n",
        "print(txt, new_txt)"
      ],
      "metadata": {
        "colab": {
          "base_uri": "https://localhost:8080/"
        },
        "id": "feRcqhWyy7tW",
        "outputId": "682cd8f4-69ca-4b94-fdff-d6cfed244bc0"
      },
      "execution_count": null,
      "outputs": [
        {
          "output_type": "stream",
          "name": "stdout",
          "text": [
            "HELLO hello\n"
          ]
        }
      ]
    },
    {
      "cell_type": "code",
      "source": [
        "txt = txt.lower()\n",
        "print(txt)"
      ],
      "metadata": {
        "colab": {
          "base_uri": "https://localhost:8080/"
        },
        "id": "RsunGbGMzSD9",
        "outputId": "cb0e1d96-51bf-4501-eb34-498aecf8f46f"
      },
      "execution_count": null,
      "outputs": [
        {
          "output_type": "stream",
          "name": "stdout",
          "text": [
            "hello\n"
          ]
        }
      ]
    },
    {
      "cell_type": "markdown",
      "source": [
        "<div dir=\"rtl\" lang=\"he\">\n",
        "\n",
        "##**<pre>  תווי בקרה במחרוזת - esc char**"
      ],
      "metadata": {
        "id": "n-ttaQ7mILNF"
      }
    },
    {
      "cell_type": "code",
      "source": [
        "print (\"gilad\\nmarkman\")\n",
        "print (\"gilad\\tmarkman\")\n",
        "print (\"gilad\\\\telem)\")\n",
        "print (\"gilad \\\"markman\\\"\")"
      ],
      "metadata": {
        "colab": {
          "base_uri": "https://localhost:8080/"
        },
        "id": "MSFzDwNxITov",
        "outputId": "fb456d0b-7b0a-4c3c-9abb-dcf6ea504701"
      },
      "execution_count": null,
      "outputs": [
        {
          "output_type": "stream",
          "name": "stdout",
          "text": [
            "gilad\n",
            "markman\n",
            "gilad\tmarkman\n",
            "gilad\\telem)\n",
            "gilad \"markman\"\n"
          ]
        }
      ]
    },
    {
      "cell_type": "code",
      "source": [],
      "metadata": {
        "id": "UATt39fmaOKz"
      },
      "execution_count": null,
      "outputs": []
    },
    {
      "cell_type": "markdown",
      "source": [
        "<div dir=\"rtl\">\n",
        "\n",
        "##**<pre>  f-string**"
      ],
      "metadata": {
        "id": "Noh8n9QCeKfD"
      }
    },
    {
      "cell_type": "markdown",
      "source": [
        "<div dir=\"rtl\">\n",
        "\n",
        "**f-string or formatted string** - זוהי דרך קלה לשלב משתנים וטקסט למחרוזת אחת."
      ],
      "metadata": {
        "id": "HzxW1VZMeYkP"
      }
    },
    {
      "cell_type": "code",
      "source": [
        "age = 57\n",
        "childrens = 4\n",
        "# txt = 'Gilad is ' + str(age) + ' years old. he has ' + str(childrens) + ...\n",
        "txt = f'Gilad is {age} years old. he has {childrens} childrens'\n",
        "print(txt)"
      ],
      "metadata": {
        "colab": {
          "base_uri": "https://localhost:8080/"
        },
        "id": "8dgZivLleqze",
        "outputId": "124504f9-3eb7-4db8-da1d-879a68b2dc54"
      },
      "execution_count": null,
      "outputs": [
        {
          "output_type": "stream",
          "name": "stdout",
          "text": [
            "Gilad is 57 years old. he has 4 childrens\n"
          ]
        }
      ]
    },
    {
      "cell_type": "markdown",
      "source": [
        "<div dir=\"rtl\">\n",
        "\n",
        "#**<pre>          תרגילים**"
      ],
      "metadata": {
        "id": "snCRH2gmGn73"
      }
    },
    {
      "cell_type": "markdown",
      "source": [
        "<div dir=\"rtl\" lang=\"he\">\n",
        "\n",
        "##**<pre>  תרגיל - חילוץ מילה פייתון**\n"
      ],
      "metadata": {
        "id": "N9VQmm40CPkU"
      }
    },
    {
      "cell_type": "markdown",
      "source": [
        "<div dir=\"rtl\" lang=\"he\">\n",
        "\n",
        "צרו משתנה והכניסו לתוכו את המחרוזת \"Second python class\"\n",
        "\n",
        "הדפיסו על המסך את תת המחרוזת \"python\" בשלוש דרכים שונות (אחת באמצעות שירשור)"
      ],
      "metadata": {
        "id": "yhpcKBOT3IId"
      }
    },
    {
      "cell_type": "code",
      "source": [
        "txt = \"Second python class\"\n",
        "print(txt[6:13])\n",
        "print(txt[-13:-6])\n",
        "print(txt[6]+txt[7]+txt[8]+txt[9]+txt[10]+txt[11]+txt[12])"
      ],
      "metadata": {
        "colab": {
          "base_uri": "https://localhost:8080/"
        },
        "id": "Q3dWzD5xXTjM",
        "outputId": "0c8987d1-3142-47cb-e931-6d0bdd15d748"
      },
      "execution_count": null,
      "outputs": [
        {
          "output_type": "stream",
          "name": "stdout",
          "text": [
            " python\n",
            " python\n",
            " python\n"
          ]
        }
      ]
    },
    {
      "cell_type": "code",
      "source": [],
      "metadata": {
        "id": "Kf0kLACiCloE"
      },
      "execution_count": null,
      "outputs": []
    },
    {
      "cell_type": "markdown",
      "source": [
        "<div dir=\"rtl\" lang=\"he\">\n",
        "\n",
        "##**<pre>תרגיל - ריבוע הקסם**\n",
        "\n",
        "\n",
        "ריבוע הקסם הוא הוא ריבוע שבו סכום המספרים בכל שורה, בכל טור, ובכל אלכסון הוא שווה. כתבו תוכנית המבצעת את הפעולות הבאות:\n",
        "\n",
        "*   קלטו מחרוזת הכוללת 4 ספרות המייצגות ריבוע קסם 2*2\n",
        "*   בדקו שהקלט מורכב כולו מספרות, והדפיסו True / False\n",
        "*   בדקו שאורך הקלט הוא 4, והדפיסו True / False\n",
        "*   הדפיסו את הקלט בצורת ריבוע 2*2\n",
        "*   בדקו האם הקלט מייצג \"ריבוע קסם\" והדפיסו True / False (רמז - אופרטורים בוליאניים)\n",
        "\n"
      ],
      "metadata": {
        "id": "4pkW0Qj2X9y6"
      }
    },
    {
      "cell_type": "code",
      "source": [
        "square = input(\"Enter 4 digits\")\n",
        "print(square.isdigit())\n",
        "print(len(square) == 4)\n",
        "print(square[0:2])\n",
        "print(square[2:4])\n",
        "is_kesem =  int(square[0])+int(square[1]) == int(square[2]) + int(square[3]) and \\\n",
        "            int(square[0])+int(square[2]) == int(square[1]) + int(square[3]) and \\\n",
        "            square[0]+square[3] == square[1] + square[2]\n",
        "print(is_kesem)"
      ],
      "metadata": {
        "id": "2aCdxBY6LEh4",
        "colab": {
          "base_uri": "https://localhost:8080/"
        },
        "outputId": "a4f6137d-ac71-43a6-ae68-5516a274887f"
      },
      "execution_count": null,
      "outputs": [
        {
          "output_type": "stream",
          "name": "stdout",
          "text": [
            "Enter 4 digits1234\n",
            "True\n",
            "True\n",
            "12\n",
            "34\n",
            "False\n"
          ]
        }
      ]
    }
  ]
}