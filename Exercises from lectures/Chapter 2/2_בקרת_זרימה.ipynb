{
  "nbformat": 4,
  "nbformat_minor": 0,
  "metadata": {
    "colab": {
      "provenance": [],
      "collapsed_sections": [
        "yspxZq2uaQDS",
        "N0tRsAjJSxWz",
        "4MFuUE0vRm8V",
        "9M-Iu4XBTF7n",
        "PDLwvvNIW-r5",
        "7DDWjJmETJUK",
        "N2svgnCaYYxa"
      ],
      "toc_visible": true
    },
    "kernelspec": {
      "name": "python3",
      "display_name": "Python 3"
    },
    "language_info": {
      "name": "python"
    }
  },
  "cells": [
    {
      "cell_type": "markdown",
      "source": [
        "![מטלות.jpg](https://drive.google.com/uc?export=view&id=1MXy0HpQcEiz97YmLcrO9UVI-rhxe5RKG)\n"
      ],
      "metadata": {
        "id": "Habhrm5RPR97"
      }
    },
    {
      "cell_type": "markdown",
      "source": [
        "<div dir=\"rtl\" lang=\"he\">\n",
        "\n",
        "#**<pre>          משפטי תנאי - if**"
      ],
      "metadata": {
        "id": "aRMDwHPNPuwc"
      }
    },
    {
      "cell_type": "markdown",
      "source": [
        "<div dir=\"rtl\" lang=\"he\">\n",
        "\n",
        "תוכנית מחשב מבוצעת שורה לאחר שורה. עד לסיום התוכנית.\n",
        "\n",
        "אם אנחנו רוצים לשנות את סדר ביצוע הפקודות עלינו להשתמש בפקודות בקרת זרימה, ואחת מהם היא ה\"תנאי\". פקודת if-elif-else.\n",
        "\n",
        "* בסוף תנאי נוסיף נקודותיים (:)\n",
        "* בשורה למטה נתחיל עם tab להבהיר כי אנחנו מתחילים בלוק פקודות חדש."
      ],
      "metadata": {
        "id": "mpNg43oXP6eQ"
      }
    },
    {
      "cell_type": "code",
      "source": [
        "num = 3\n",
        "if num > 0:\n",
        "  print(f'{num} is positive')\n"
      ],
      "metadata": {
        "colab": {
          "base_uri": "https://localhost:8080/"
        },
        "id": "SjwDl7nNdnD-",
        "outputId": "aa3459f1-3484-4f02-e450-c18006bf5cc4"
      },
      "execution_count": null,
      "outputs": [
        {
          "output_type": "stream",
          "name": "stdout",
          "text": [
            "3 is positive\n"
          ]
        }
      ]
    },
    {
      "cell_type": "code",
      "source": [
        "num = 2\n",
        "if num > 0:\n",
        "  print(f'{num} is positive')\n",
        "  print(\"...\")\n",
        "else:\n",
        "  print(f'{num} is not positive')\n",
        "\n",
        "print(\"end\")"
      ],
      "metadata": {
        "colab": {
          "base_uri": "https://localhost:8080/"
        },
        "id": "Zt4gphO_drE6",
        "outputId": "cefedbed-125a-4721-f0b9-132a1822bd81"
      },
      "execution_count": null,
      "outputs": [
        {
          "output_type": "stream",
          "name": "stdout",
          "text": [
            "2 is positive\n",
            "...\n",
            "end\n"
          ]
        }
      ]
    },
    {
      "cell_type": "code",
      "execution_count": null,
      "metadata": {
        "id": "3PCd6tC01YCC",
        "colab": {
          "base_uri": "https://localhost:8080/"
        },
        "outputId": "58edce57-dc1c-41e2-bd1d-be8c73fa0115"
      },
      "outputs": [
        {
          "output_type": "stream",
          "name": "stdout",
          "text": [
            "-1 is negative\n",
            "end\n"
          ]
        }
      ],
      "source": [
        "num = 0\n",
        "if num > 0:\n",
        "  print(f'{num} is positive')\n",
        "elif num < 0:\n",
        "  print(f'{num} is negative')\n",
        "else:\n",
        "  print(f'{num} is zero')\n",
        "\n",
        "print(\"end\")"
      ]
    },
    {
      "cell_type": "code",
      "source": [
        "num = 0\n",
        "if num > 0:\n",
        "  print(f'{num} is positive')\n",
        "if num < 10:\n",
        "  print(f'{num} is between 0 ti 10')\n",
        "if num == 0:\n",
        "  print(f'{num} is zero')\n",
        "\n",
        "print(\"end\")"
      ],
      "metadata": {
        "id": "NF6OiCiq37_V"
      },
      "execution_count": null,
      "outputs": []
    },
    {
      "cell_type": "markdown",
      "source": [
        "<div dir=\"rtl\">\n",
        "\n",
        "ניתן לבצע תנאים מקוננים, כלומר תנאי בתוך תנאי.\n",
        "לדוגמה:"
      ],
      "metadata": {
        "id": "JtY-x2wdiyPl"
      }
    },
    {
      "cell_type": "code",
      "source": [
        "txt = \"Gilad\"\n",
        "if txt == \"Gilad\":\n",
        "  print(\"Hi\")\n",
        "  print(\"Shalom\")\n",
        "  if txt[0] == \"G\":\n",
        "    print(\"GGG\")\n",
        "    if txt[2] == \"i\":\n",
        "      print(\"   \")\n",
        "    else:\n",
        "      print(\"    \")\n",
        "\n"
      ],
      "metadata": {
        "id": "zKtuupZA5LqR"
      },
      "execution_count": null,
      "outputs": []
    },
    {
      "cell_type": "code",
      "source": [
        "txt = input(\"Enter a word: \")\n",
        "if txt.isalpha():\n",
        "  print(f'txt is alpha')\n",
        "  if txt.find(\"A\") == 0:\n",
        "    print (\"A start the word\")\n",
        "  else:\n",
        "    print (\"A doesn't start the word\")\n",
        "else:\n",
        "  print(\"not alpha\")"
      ],
      "metadata": {
        "colab": {
          "base_uri": "https://localhost:8080/"
        },
        "id": "ofk1lcPJjGco",
        "outputId": "cf873e55-65eb-4e73-9bf9-c9c126f7c79c"
      },
      "execution_count": null,
      "outputs": [
        {
          "output_type": "stream",
          "name": "stdout",
          "text": [
            "Enter a worddfg\n",
            "txt is alpha\n",
            "A doesn't start the word\n"
          ]
        }
      ]
    },
    {
      "cell_type": "markdown",
      "source": [
        "<div dir=\"rtl\">\n",
        "\n",
        "##**<pre>כתיבה מקוצרת של משפטי תנאי**\n",
        "\n",
        "בפייתון ניתן לכתוב משפטי תנאי בכתיבה מקוצרת. נראה דוגמאות:"
      ],
      "metadata": {
        "id": "yspxZq2uaQDS"
      }
    },
    {
      "cell_type": "code",
      "source": [
        "x = -5\n",
        "res = (\"positive\" if x > 0 else \"non positive\")\n",
        "print(res)"
      ],
      "metadata": {
        "colab": {
          "base_uri": "https://localhost:8080/"
        },
        "id": "KbbtKpmYafF2",
        "outputId": "d626107c-dc82-4dc7-bb87-3e2d7f15cf77"
      },
      "execution_count": null,
      "outputs": [
        {
          "output_type": "stream",
          "name": "stdout",
          "text": [
            "non positive\n"
          ]
        }
      ]
    },
    {
      "cell_type": "code",
      "source": [
        "res = \"positive\" if x > 0 else \"non positive\""
      ],
      "metadata": {
        "id": "Bu79Y4gZa5Km"
      },
      "execution_count": null,
      "outputs": []
    },
    {
      "cell_type": "markdown",
      "source": [
        "<div dir=\"rtl\" lang=\"he\">\n",
        "\n",
        "# **<pre>          תרגילים**\n"
      ],
      "metadata": {
        "id": "N0tRsAjJSxWz"
      }
    },
    {
      "cell_type": "markdown",
      "source": [
        "<div dir=\"rtl\" lang=\"he\">\n",
        "\n",
        "##**<pre>  תרגיל - זוגי או אי זוגי**\n",
        "\n",
        "\n",
        "כיתבו את התוכנית הבאה:\n",
        "\n",
        "*   קלטו מספר שלם מן המשתמש.\n",
        "*   בדקו אם המשתמש הכניס מספר שלם. אם לא, הדפיסו הודעת שגיאה: המספר אינו מספר שלם\n",
        "*   אם מספר שלם, בדקו אם הוא זוגי והדפיסו Even / Odd בהתאם."
      ],
      "metadata": {
        "id": "4MFuUE0vRm8V"
      }
    },
    {
      "cell_type": "code",
      "source": [
        "num_txt = input(\"Enter integer: \")\n",
        "if num_txt.isdigit():\n",
        "  num = int(num_txt)\n",
        "  if num % 2 == 0:\n",
        "    print(num, 'is even')\n",
        "  else:\n",
        "    print(num, 'is odd')\n",
        "else:\n",
        "  print(\"Error - not integer\")"
      ],
      "metadata": {
        "colab": {
          "base_uri": "https://localhost:8080/"
        },
        "id": "FpafNw1ihpop",
        "outputId": "3d217ed6-9ee0-4162-fb22-fe252a43b30e"
      },
      "execution_count": null,
      "outputs": [
        {
          "output_type": "stream",
          "name": "stdout",
          "text": [
            "Enter integer: 12\n",
            "12 is even\n"
          ]
        }
      ]
    },
    {
      "cell_type": "markdown",
      "source": [
        "<div dir=\"rtl\" lang=\"he\">\n",
        "\n"
      ],
      "metadata": {
        "id": "7DIjR_rsSrfR"
      }
    },
    {
      "cell_type": "markdown",
      "source": [
        "<div dir=\"rtl\" lang=\"he\">\n",
        "\n",
        "##**<pre>  תרגיל טמפרטורה**\n",
        "\n",
        "\n",
        "קלטו מהמשתמש טמפרטורה במעלות צלזיוס, והדפיסו את הסיווג של הטמפרטורה:\n",
        "\n",
        "The temperture is classified as: below freezing / Cold / Mild / Hot\n",
        "\n",
        "*   Below freezing: < 0\n",
        "*   Cold: 0 - 15\n",
        "*   Mild: 15 - 25\n",
        "*   Hot: > 25\n",
        "\n",
        "לאחר מכן המירו את הטמפרטורה לפרנהייט (חפשו באינטרנט את הנוסחה) והדפיסו את התוצאה."
      ],
      "metadata": {
        "id": "9M-Iu4XBTF7n"
      }
    },
    {
      "cell_type": "code",
      "source": [
        "temp = float(input(\"Enter tempreture\"))\n",
        "if temp < 0:\n",
        "  print(\"Bellow freezing\")\n",
        "elif temp < 15:\n",
        "  print (\"Cold\")\n",
        "elif 15 <= temp < 25:\n",
        "  print(\"Mild\")\n",
        "else:\n",
        "  print (\"Hot\")\n",
        "\n",
        "fahrenheit = 9/5 * temp + 32\n",
        "print(f'The tempreture in fahreheit is  {fahrenheit}')"
      ],
      "metadata": {
        "id": "wXnLjX7GTI3R",
        "colab": {
          "base_uri": "https://localhost:8080/"
        },
        "outputId": "79e8642e-1b20-41ec-ac90-793954a15550"
      },
      "execution_count": null,
      "outputs": [
        {
          "output_type": "stream",
          "name": "stdout",
          "text": [
            "Enter tempreture24\n",
            "Mild\n",
            "The tempreture in fahreheit is  75.2\n"
          ]
        }
      ]
    },
    {
      "cell_type": "markdown",
      "source": [
        "<div dir=\"rtl\" lang=\"he\">\n",
        "\n",
        "##**<pre>  תרגיל שם משתמש וסיסמה**\n",
        "\n",
        "כתוב תוכנית הקולטת מהמשתמש שם משתמש וסיסמה.\n",
        "בדקו אם שם המשתמש והסיסמה הם:\n",
        "*   שמכם הפרטי ושנת הלידה שלכם\n",
        " * או\n",
        "*   user_name: Gilad , password: 1968\n",
        "\n",
        "אם המשתמש הכניס פרטים נכונים ייכתב באנגלית: ברוך הבא ושם המשתמש.\n",
        "\n",
        "אם לא, תכתב הודעה לפיה שם המשתמש והסיסמה אינם נכונים."
      ],
      "metadata": {
        "id": "PDLwvvNIW-r5"
      }
    },
    {
      "cell_type": "code",
      "source": [
        "username = input(\"Enter username: \")\n",
        "password = input(\"Enter password: \")\n",
        "if username == \"Gilad\" and password==\"1968\" or \\\n",
        "    username == \"Gal\" and password == \"1999\":\n",
        "  print('Welcome ',username)\n",
        "else:\n",
        "  print(\"unknown username or password\")\n"
      ],
      "metadata": {
        "id": "zcarqVUhW_HU",
        "colab": {
          "base_uri": "https://localhost:8080/"
        },
        "outputId": "84e4f70d-e348-489c-cd69-fc67c9d5f775"
      },
      "execution_count": null,
      "outputs": [
        {
          "output_type": "stream",
          "name": "stdout",
          "text": [
            "Enter username: Ga;\n",
            "Enter password: 2000\n",
            "unknown username or password\n"
          ]
        }
      ]
    },
    {
      "cell_type": "markdown",
      "source": [
        "<div dir=\"rtl\" lang=\"he\">\n",
        "\n",
        "##**<pre>  תרגיל - מחשבון**\n",
        "\n",
        "*   קלוט מהמשתמש שלושה נתונים בסדר הבא: מספר שלם, פעולה (*, /, +, -) ומספר שלם נוסף.\n",
        "*   בדוק שהקלט תקין\n",
        "*   חשב את הפעולה לה התכוון המשתמש\n",
        "*   הדפס את הפעולה והתשובה, למשל:\n",
        " *  60 = 5 * 12\n",
        "\n",
        "\n"
      ],
      "metadata": {
        "id": "7DDWjJmETJUK"
      }
    },
    {
      "cell_type": "code",
      "source": [
        "num1 = int(input(\"Please enter first int: \"))\n",
        "oper = input(\"please enter: *, +, - or /: \")\n",
        "num2 = int(input(\"Please enter second int: \"))\n",
        "\n",
        "if oper == \"*\":\n",
        "  res = num1 * num2\n",
        "elif oper == \"/\":\n",
        "  res = num1 / num2\n",
        "elif oper == \"+\":\n",
        "  res = num1 + num2\n",
        "elif oper == \"-\":\n",
        "  res = num1 - num2\n",
        "else:\n",
        "  res = \"Error\"\n",
        "\n",
        "print(f'{num1} {oper} {num2} = {res}')\n",
        "\n"
      ],
      "metadata": {
        "id": "CRRVWMTcTNNr",
        "colab": {
          "base_uri": "https://localhost:8080/"
        },
        "outputId": "a4d0657f-7666-4f28-a27f-92e088c4811c"
      },
      "execution_count": null,
      "outputs": [
        {
          "output_type": "stream",
          "name": "stdout",
          "text": [
            "Please enter first int: 12\n",
            "please enter: *, +, - or /: &\n",
            "Please enter second int: 3\n",
            "12 & 3 = Error\n"
          ]
        }
      ]
    },
    {
      "cell_type": "markdown",
      "source": [
        "<div dir=\"rtl\" lang=\"he\">\n",
        "\n",
        "##**<pre>תרגיל - סידור מספרים**\n",
        "\n",
        "כתבו תוכנית המקבלת 3 מספרים ושומרת אותם במשתנים: n1, n2, n3.\n",
        "\n",
        "סדרו את המשתנים לפי הסדר מהקטן לגדול, כך שב n1 יהיה המספר הקטן ביותר ואילו ב n3 הגדול ביותר.\n",
        "\n",
        "הדפיסו את המשתנים לפי הסדר."
      ],
      "metadata": {
        "id": "N2svgnCaYYxa"
      }
    },
    {
      "cell_type": "code",
      "source": [
        "n1 = float(input(\"enter numner 1: \"))\n",
        "n2 = float(input(\"enter numner 2: \"))\n",
        "n3 = float(input(\"enter numner 3: \"))\n",
        "\n",
        "if n2 < n1 and n1 < n3:\n",
        "  n1, n2, n3 = n2, n1, n3\n",
        "if n3 < n2 and n2 < n1:\n",
        "  n1, n2, n3 = n3, n2, n1\n",
        "if n3 < n1 and n1 < n2:\n",
        "  n1, n2, n3 = n3, n1, n2\n",
        "# ...\n",
        "print (n1, n2, n3)"
      ],
      "metadata": {
        "id": "VtdwRJauYt1i"
      },
      "execution_count": null,
      "outputs": []
    },
    {
      "cell_type": "code",
      "source": [
        "a = float(input(\"enter numner 1: \"))\n",
        "b = float(input(\"enter numner 2: \"))\n",
        "c = float(input(\"enter numner 3: \"))\n",
        "\n",
        "maximum = max(a, b, c)\n",
        "minimum = min(a, b, c)\n",
        "middle = a + b + c - maximum - minimum\n",
        "\n",
        "print(minimum, middle, maximum)\n"
      ],
      "metadata": {
        "colab": {
          "base_uri": "https://localhost:8080/"
        },
        "id": "3Abu9wJVv0Ev",
        "outputId": "da325f40-4e7b-4f7d-f977-f30767f9f461"
      },
      "execution_count": null,
      "outputs": [
        {
          "output_type": "stream",
          "name": "stdout",
          "text": [
            "enter numner 1: 5\n",
            "enter numner 2: 4\n",
            "enter numner 3: 3\n",
            "3.0 4.0 5.0\n"
          ]
        }
      ]
    }
  ]
}